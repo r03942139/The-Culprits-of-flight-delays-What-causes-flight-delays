{
 "cells": [
  {
   "cell_type": "code",
   "execution_count": 1,
   "metadata": {
    "colab": {
     "base_uri": "https://localhost:8080/",
     "height": 122
    },
    "colab_type": "code",
    "executionInfo": {
     "elapsed": 17983,
     "status": "ok",
     "timestamp": 1586194325680,
     "user": {
      "displayName": "BO WANG",
      "photoUrl": "",
      "userId": "07479061012223151694"
     },
     "user_tz": 300
    },
    "id": "md3yOY-geqOm",
    "outputId": "5af4f1c0-3fad-45f7-d676-16cca335319e"
   },
   "outputs": [],
   "source": [
    "# from google.colab import drive\n",
    "# drive.mount('/content/gdrive')"
   ]
  },
  {
   "cell_type": "code",
   "execution_count": 53,
   "metadata": {
    "colab": {
     "base_uri": "https://localhost:8080/",
     "height": 765
    },
    "colab_type": "code",
    "executionInfo": {
     "elapsed": 11811,
     "status": "ok",
     "timestamp": 1586198945558,
     "user": {
      "displayName": "BO WANG",
      "photoUrl": "",
      "userId": "07479061012223151694"
     },
     "user_tz": 300
    },
    "id": "TFLzkucffEFw",
    "outputId": "3a6b49cb-9ad2-4706-c2f3-071e6c225f5e"
   },
   "outputs": [
    {
     "name": "stdout",
     "output_type": "stream",
     "text": [
      "/Users/brayden/course/cs670/dataCompetition\n",
      "   YEAR  QUARTER  MONTH  DAY_OF_MONTH  DAY_OF_WEEK CARRIER  FL_NUM   Route  \\\n",
      "0  2018        3      8            26            7      YX    6058  3457.0   \n",
      "1  2018        1      3            31            6      EV    5433   251.0   \n",
      "2  2018        4     10            18            4      AA    1839  1451.0   \n",
      "3  2019        1      1            21            1      MQ    3886  4631.0   \n",
      "4  2019        2      6            13            4      OO    3070  5518.0   \n",
      "\n",
      "  ORIGIN DEST  ...    fare  carrier_lg  large_ms  fare_lg  HUBS  \\\n",
      "0    LGA  BOS  ...  188.60          DL    0.2967   203.39     0   \n",
      "1    ATL  MLI  ...  270.74          DL    0.9413   270.81     0   \n",
      "2    DCA  DFW  ...  232.82          AA    0.5373   266.04     1   \n",
      "3    ORD  MQT  ...  238.89          AA    0.9167   238.78     0   \n",
      "4    SAF  PHX  ...  149.01          AA    0.9823   149.42     0   \n",
      "\n",
      "   ARR_DELAY_GROUP  DISTANCE_CAT  ORIGIN_STATE AVG_FARE_MILE  TIME24  \n",
      "0               -2             0            NY      1.025000      12  \n",
      "1                5             0            GA      0.427709      15  \n",
      "2                0             0            VA      0.195319       6  \n",
      "3                2             0            IL      0.788416      18  \n",
      "4               -2             0            NM      0.402730      18  \n",
      "\n",
      "[5 rows x 27 columns]\n",
      "<class 'pandas.core.frame.DataFrame'>\n",
      "RangeIndex: 3270270 entries, 0 to 3270269\n",
      "Data columns (total 27 columns):\n",
      "YEAR               int64\n",
      "QUARTER            int64\n",
      "MONTH              int64\n",
      "DAY_OF_MONTH       int64\n",
      "DAY_OF_WEEK        int64\n",
      "CARRIER            object\n",
      "FL_NUM             int64\n",
      "Route              float64\n",
      "ORIGIN             object\n",
      "DEST               object\n",
      "DEST_STATE         object\n",
      "CRS_DEP_TIME       int64\n",
      "DISTANCE           int64\n",
      "PASSENGERS         int64\n",
      "EMPFTE             int64\n",
      "NET_INCOME         float64\n",
      "OP_REVENUES        float64\n",
      "fare               float64\n",
      "carrier_lg         object\n",
      "large_ms           float64\n",
      "fare_lg            float64\n",
      "HUBS               int64\n",
      "ARR_DELAY_GROUP    int64\n",
      "DISTANCE_CAT       int64\n",
      "ORIGIN_STATE       object\n",
      "AVG_FARE_MILE      float64\n",
      "TIME24             int64\n",
      "dtypes: float64(7), int64(14), object(6)\n",
      "memory usage: 673.7+ MB\n",
      "None\n"
     ]
    }
   ],
   "source": [
    "import csv\n",
    "import os\n",
    "import pandas_profiling\n",
    "import pandas as pd\n",
    "from itertools import islice\n",
    "\n",
    "# use pandas-profiling to visualize our data\n",
    "print(os.getcwd())\n",
    "# print(os.listdir('/content/gdrive/My Drive/DataCompetition'))\n",
    "data = pd.read_csv('cleanData_for_FiveClass.csv')\n",
    "print(data.head())\n",
    "print(data.info())"
   ]
  },
  {
   "cell_type": "code",
   "execution_count": 61,
   "metadata": {
    "colab": {
     "base_uri": "https://localhost:8080/",
     "height": 272
    },
    "colab_type": "code",
    "executionInfo": {
     "elapsed": 121889,
     "status": "ok",
     "timestamp": 1586199055645,
     "user": {
      "displayName": "BO WANG",
      "photoUrl": "",
      "userId": "07479061012223151694"
     },
     "user_tz": 300
    },
    "id": "80SdCsYTfSab",
    "outputId": "c0a2db5f-7b93-48f6-c6dc-4a0d0ddfb493"
   },
   "outputs": [
    {
     "name": "stdout",
     "output_type": "stream",
     "text": [
      "Index(['MONTH', 'DAY_OF_WEEK', 'ORIGIN', 'DEST', 'ORIGIN_STATE', 'DEST_STATE',\n",
      "       'CRS_DEP_TIME', 'DISTANCE', 'fare', 'large_ms', 'carrier_lg', 'HUBS',\n",
      "       'AVG_FARE_MILE', 'TIME24', 'AA_carrier_lg', 'AS_carrier_lg',\n",
      "       'B6_carrier_lg', 'DL_carrier_lg', 'F9_carrier_lg', 'G4_carrier_lg',\n",
      "       'NK_carrier_lg', 'SY_carrier_lg', 'UA_carrier_lg', 'WN_carrier_lg'],\n",
      "      dtype='object')\n",
      "Index(['MONTH', 'DAY_OF_WEEK', 'ORIGIN_STATE', 'DEST_STATE', 'CRS_DEP_TIME',\n",
      "       'DISTANCE', 'fare', 'large_ms', 'carrier_lg', 'HUBS', 'AVG_FARE_MILE',\n",
      "       'TIME24', 'AA_carrier_lg', 'AS_carrier_lg', 'B6_carrier_lg',\n",
      "       'DL_carrier_lg', 'F9_carrier_lg', 'G4_carrier_lg', 'NK_carrier_lg',\n",
      "       'SY_carrier_lg', 'UA_carrier_lg', 'WN_carrier_lg'],\n",
      "      dtype='object')\n",
      "Index(['MONTH', 'DAY_OF_WEEK', 'ORIGIN', 'DEST', 'CRS_DEP_TIME', 'DISTANCE',\n",
      "       'fare', 'large_ms', 'carrier_lg', 'HUBS', 'AVG_FARE_MILE', 'TIME24',\n",
      "       'AA_carrier_lg', 'AS_carrier_lg', 'B6_carrier_lg', 'DL_carrier_lg',\n",
      "       'F9_carrier_lg', 'G4_carrier_lg', 'NK_carrier_lg', 'SY_carrier_lg',\n",
      "       'UA_carrier_lg', 'WN_carrier_lg'],\n",
      "      dtype='object')\n",
      "Index(['MONTH', 'DAY_OF_WEEK', 'ORIGIN_STATE', 'DEST_STATE', 'CRS_DEP_TIME',\n",
      "       'DISTANCE', 'fare', 'large_ms', 'carrier_lg', 'HUBS', 'AVG_FARE_MILE',\n",
      "       'TIME24'],\n",
      "      dtype='object')\n"
     ]
    }
   ],
   "source": [
    "from sklearn.preprocessing import LabelBinarizer\n",
    "from sklearn.preprocessing import LabelEncoder\n",
    "from sklearn.preprocessing import StandardScaler \n",
    "import numpy as np\n",
    "\n",
    "# normalized input\n",
    "baseline_inputXs = ['MONTH','DAY_OF_WEEK','CARRIER', 'ORIGIN', 'DEST', 'ORIGIN_STATE', 'DEST_STATE',\n",
    "         'CRS_DEP_TIME', 'DISTANCE', 'fare', 'large_ms', \n",
    "         'carrier_lg',    'HUBS', 'AVG_FARE_MILE', 'TIME24']\n",
    "# DISTANCE_CAT single one value\n",
    "\n",
    "#baseline\n",
    "category_tag = ['ORIGIN', 'DEST',  'ORIGIN_STATE',  'DEST_STATE', 'carrier_lg']\n",
    "baseline_input = data[baseline_inputXs].copy()\n",
    "\n",
    "# One-Hot process for category data\n",
    "lb = LabelEncoder()\n",
    "for each_cag in category_tag:\n",
    "    baseline_input[each_cag] = lb.fit_transform(baseline_input[each_cag])\n",
    "#     lb.classes_ = np.char.add(lb.classes_ , '_' + each_cag)\n",
    "#     lb_results_df = pd.DataFrame(lb_results, columns = lb.classes_)\n",
    "#     baseline_input = pd.concat([baseline_input, lb_results_df], axis = 1)\n",
    "#     baseline_input = baseline_input.drop(columns = each_cag)\n",
    "\n",
    "lb_binary = LabelBinarizer()\n",
    "lb_results = lb_binary.fit_transform(baseline_input['CARRIER'])\n",
    "lb_results_of = pd.DataFrame(lb_results, columns = lb_binary.classes_)\n",
    "baseline_input = pd.concat([baseline_input, lb_results_df], axis = 1)\n",
    "baseline_input = baseline_input.drop(columns = 'CARRIER')\n",
    "\n",
    "\n",
    "print(baseline_input.columns)\n",
    "# print(baseline_input.head())\n",
    "\n",
    "\n",
    "norm_tag = ['MONTH', 'DAY_OF_WEEK', 'ORIGIN_STATE', 'DEST_STATE',\n",
    "       'CRS_DEP_TIME', 'DISTANCE', 'fare', 'large_ms', 'carrier_lg', 'HUBS',\n",
    "       'AVG_FARE_MILE', 'TIME24', 'AA_carrier_lg', 'AS_carrier_lg',\n",
    "       'B6_carrier_lg', 'DL_carrier_lg', 'F9_carrier_lg', 'G4_carrier_lg',\n",
    "       'NK_carrier_lg', 'SY_carrier_lg', 'UA_carrier_lg', 'WN_carrier_lg']\n",
    "\n",
    "d1_tag = ['MONTH', 'DAY_OF_WEEK', 'ORIGIN', 'DEST', \n",
    "       'CRS_DEP_TIME', 'DISTANCE', 'fare', 'large_ms', 'carrier_lg', 'HUBS',\n",
    "       'AVG_FARE_MILE', 'TIME24', 'AA_carrier_lg', 'AS_carrier_lg',\n",
    "       'B6_carrier_lg', 'DL_carrier_lg', 'F9_carrier_lg', 'G4_carrier_lg',\n",
    "       'NK_carrier_lg', 'SY_carrier_lg', 'UA_carrier_lg', 'WN_carrier_lg']\n",
    "\n",
    "d2_tag = ['MONTH', 'DAY_OF_WEEK', 'ORIGIN_STATE', 'DEST_STATE',\n",
    "       'CRS_DEP_TIME', 'DISTANCE', 'fare', 'large_ms', 'carrier_lg', 'HUBS',\n",
    "       'AVG_FARE_MILE', 'TIME24']\n",
    "\n",
    "# norm_input\n",
    "norm_input = baseline_input[norm_tag].copy()\n",
    "# for each_tag in norm_input.columns:\n",
    "#     if 'ORIGIN' or 'DEST' in each_tag:\n",
    "#         if 'ORIGIN_STATE' or 'DEST_STATE' not in each_tag:\n",
    "#             norm_input = norm_input.drop(columns = each_tag)\n",
    "            \n",
    "print(norm_input.columns)\n",
    "# print(norm_input.head())\n",
    "\n",
    "# drop state\n",
    "no_state_input = baseline_input[d1_tag].copy()\n",
    "# for each_tag in no_state_input.columns:\n",
    "#     if 'STATE' in each_tag:\n",
    "#         no_state_input = no_state_input.drop(columns = each_tag)\n",
    "        \n",
    "print(no_state_input.columns)\n",
    "# print(no_state_input.head())\n",
    "\n",
    "# drop carrier\n",
    "no_carrier_input = norm_input[d2_tag].copy()\n",
    "# for each_tag in no_carrier_input.columns:\n",
    "#     if '_carrier_lg' in each_tag:\n",
    "#         no_carrier_input = no_carrier_input.drop(columns = each_tag)\n",
    "        \n",
    "print(no_carrier_input.columns)"
   ]
  },
  {
   "cell_type": "code",
   "execution_count": null,
   "metadata": {},
   "outputs": [],
   "source": []
  },
  {
   "cell_type": "code",
   "execution_count": 62,
   "metadata": {
    "colab": {
     "base_uri": "https://localhost:8080/",
     "height": 153
    },
    "colab_type": "code",
    "executionInfo": {
     "elapsed": 130687,
     "status": "ok",
     "timestamp": 1586199064449,
     "user": {
      "displayName": "BO WANG",
      "photoUrl": "",
      "userId": "07479061012223151694"
     },
     "user_tz": 300
    },
    "id": "oQaWiQltfgli",
    "outputId": "d7303574-29a1-470a-ae44-e765b3285bf5"
   },
   "outputs": [
    {
     "name": "stdout",
     "output_type": "stream",
     "text": [
      "      MONTH  DAY_OF_WEEK  ORIGIN_STATE  DEST_STATE  CRS_DEP_TIME  DISTANCE  \\\n",
      "0  0.733851     1.542969            31          15     -0.335845 -1.142090   \n",
      "1 -0.801079     1.040125             8          10      0.472146 -0.261327   \n",
      "2  1.347823     0.034438            41          38     -1.366375  0.835213   \n",
      "3 -1.415051    -1.474093            11          18      0.965158 -0.908658   \n",
      "4  0.119879     0.034438            29           2      1.040479 -0.777231   \n",
      "\n",
      "       fare  large_ms  carrier_lg  HUBS  ...  AA_carrier_lg  AS_carrier_lg  \\\n",
      "0 -0.520668 -1.607097           3     0  ...              0              0   \n",
      "1  0.986769  1.452403           3     0  ...              0              0   \n",
      "2  0.290859 -0.465124           0     1  ...              1              0   \n",
      "3  0.402256  1.335643           0     0  ...              1              0   \n",
      "4 -1.247225  1.647004           0     0  ...              1              0   \n",
      "\n",
      "   B6_carrier_lg  DL_carrier_lg  F9_carrier_lg  G4_carrier_lg  NK_carrier_lg  \\\n",
      "0              0              1              0              0              0   \n",
      "1              0              1              0              0              0   \n",
      "2              0              0              0              0              0   \n",
      "3              0              0              0              0              0   \n",
      "4              0              0              0              0              0   \n",
      "\n",
      "   SY_carrier_lg  UA_carrier_lg  WN_carrier_lg  \n",
      "0              0              0              0  \n",
      "1              0              0              0  \n",
      "2              0              0              0  \n",
      "3              0              0              0  \n",
      "4              0              0              0  \n",
      "\n",
      "[5 rows x 22 columns]\n",
      "      MONTH  DAY_OF_WEEK  ORIGIN  DEST  CRS_DEP_TIME  DISTANCE      fare  \\\n",
      "0  0.733851     1.542969     148    34     -0.335845 -1.142090 -0.520668   \n",
      "1 -0.801079     1.040125      12   170      0.472146 -0.261327  0.986769   \n",
      "2  1.347823     0.034438      68    70     -1.366375  0.835213  0.290859   \n",
      "3 -1.415051    -1.474093     189   175      0.965158 -0.908658  0.402256   \n",
      "4  0.119879     0.034438     230   201      1.040479 -0.777231 -1.247225   \n",
      "\n",
      "   large_ms  carrier_lg  HUBS  ...  AA_carrier_lg  AS_carrier_lg  \\\n",
      "0 -1.607097           3     0  ...              0              0   \n",
      "1  1.452403           3     0  ...              0              0   \n",
      "2 -0.465124           0     1  ...              1              0   \n",
      "3  1.335643           0     0  ...              1              0   \n",
      "4  1.647004           0     0  ...              1              0   \n",
      "\n",
      "   B6_carrier_lg  DL_carrier_lg  F9_carrier_lg  G4_carrier_lg  NK_carrier_lg  \\\n",
      "0              0              1              0              0              0   \n",
      "1              0              1              0              0              0   \n",
      "2              0              0              0              0              0   \n",
      "3              0              0              0              0              0   \n",
      "4              0              0              0              0              0   \n",
      "\n",
      "   SY_carrier_lg  UA_carrier_lg  WN_carrier_lg  \n",
      "0              0              0              0  \n",
      "1              0              0              0  \n",
      "2              0              0              0  \n",
      "3              0              0              0  \n",
      "4              0              0              0  \n",
      "\n",
      "[5 rows x 22 columns]\n"
     ]
    }
   ],
   "source": [
    "\n",
    "# Scaling for continuous features\n",
    "\n",
    "continuous_tag = ['MONTH','DAY_OF_WEEK',\n",
    "         'CRS_DEP_TIME', 'DISTANCE', 'fare', 'large_ms', \n",
    "              'AVG_FARE_MILE', 'TIME24']\n",
    "\n",
    "scaler = StandardScaler()\n",
    "scaler.fit(norm_input[continuous_tag])\n",
    "norm_input[continuous_tag] = scaler.transform(norm_input[continuous_tag])\n",
    "print(norm_input.head())\n",
    "\n",
    "scaler.fit(no_state_input[continuous_tag])\n",
    "no_state_input[continuous_tag] = scaler.transform(no_state_input[continuous_tag])\n",
    "print(no_state_input.head())\n",
    "\n",
    "scaler.fit(no_carrier_input[continuous_tag])\n",
    "no_carrier_input[continuous_tag] = scaler.transform(no_carrier_input[continuous_tag])\n",
    "\n"
   ]
  },
  {
   "cell_type": "code",
   "execution_count": 67,
   "metadata": {
    "colab": {
     "base_uri": "https://localhost:8080/",
     "height": 232
    },
    "colab_type": "code",
    "executionInfo": {
     "elapsed": 1177,
     "status": "error",
     "timestamp": 1586201513962,
     "user": {
      "displayName": "BO WANG",
      "photoUrl": "",
      "userId": "07479061012223151694"
     },
     "user_tz": 300
    },
    "id": "N3e_78fHfpnl",
    "outputId": "5320c408-4ad8-4928-f0fe-e6dbdcb4d61d"
   },
   "outputs": [
    {
     "name": "stdout",
     "output_type": "stream",
     "text": [
      "[ 0  3  6  9 12]\n",
      "training: baseline\n",
      "Training set score: 0.671120\n",
      "Training set loss: 0.945569\n",
      "training: norm\n",
      "Training set score: 0.671120\n",
      "Training set loss: 0.940597\n",
      "training: no_state\n",
      "Training set score: 0.671120\n",
      "Training set loss: 0.945135\n",
      "training: no_carrier\n",
      "Training set score: 0.671120\n",
      "Training set loss: 0.941033\n"
     ]
    },
    {
     "data": {
      "image/png": "[encoded data removed]",
      "text/plain": [
       "<Figure size 1080x720 with 1 Axes>"
      ]
     },
     "metadata": {},
     "output_type": "display_data"
    }
   ],
   "source": [
    "# train the model\n",
    "from sklearn.neural_network import MLPClassifier\n",
    "from sklearn.model_selection import cross_validate\n",
    "from sklearn.model_selection import KFold\n",
    "import numpy as np\n",
    "import matplotlib.pyplot as plt\n",
    "from sklearn.exceptions import ConvergenceWarning\n",
    "\n",
    "import warnings\n",
    "\n",
    "Ydata = data['ARR_DELAY_GROUP']\n",
    "Ydata = Ydata[0 : 400000].to_numpy()\n",
    "for i in range(0, 13, 3):\n",
    "    Ydata = np.where(Ydata == i - 1 , i, Ydata)\n",
    "    Ydata = np.where(Ydata == i - 2, i, Ydata)\n",
    "print(np.unique(Ydata))\n",
    "\n",
    "\n",
    "# norm_kf = KFold(n_splits = 3)\n",
    "# norm_clf = MLPClassifier(solver='adam', alpha = 0.01, hidden_layer_sizes=( 100, 3),  random_state=1, max_iter = 200)\n",
    "# for train_indices, test_indices in norm_kf.split(norm_X):\n",
    "#     norm_clf.fit(norm_X[train_indices], Ydata[train_indices])\n",
    "#     print(norm_clf.score(norm_X[test_indices], Ydata[test_indices]))\n",
    "#     print(norm_clf.loss_)\n",
    "\n",
    "# plt.plot(norm_clf.loss_curve_)\n",
    "\n",
    "baseline_X = baseline_input[0 : 400000].to_numpy()\n",
    "norm_X = norm_input[0 : 400000].to_numpy()\n",
    "no_state_X = no_state_input[0 : 400000].to_numpy()\n",
    "no_carrier_X = no_carrier_input[0 : 400000].to_numpy()\n",
    "\n",
    "labels = [\"baseline\", \"norm\", \"no_state\", \"no_carrier\"]\n",
    "plot_args = [{'c': 'red'}, {'c': 'green'}, {'c': 'blue'}, {'c': 'black'}]\n",
    "data_inputs = [baseline_X, norm_X, no_state_X, no_carrier_X]\n",
    "Ydata_set = [Ydata, Ydata, Ydata, Ydata]\n",
    "\n",
    "mlps = []\n",
    "for label, data_in, out_y in zip(labels, data_inputs, Ydata_set):\n",
    "    print('training: %s' %label)\n",
    "    mlp = MLPClassifier(solver = 'adam', alpha = 0.1, hidden_layer_sizes = (20, 20, 20, 20, 20), random_state = 1, max_iter = 300)\n",
    "    with warnings.catch_warnings():\n",
    "        warnings.filterwarnings(\"ignore\", category=ConvergenceWarning,module=\"sklearn\")\n",
    "        mlp.fit(data_in, out_y)\n",
    "\n",
    "    mlps.append(mlp)\n",
    "    print(\"Training set score: %f\" % mlp.score(data_in, out_y))\n",
    "    print(\"Training set loss: %f\" % mlp.loss_)\n",
    "    \n",
    "fig, axes = plt.subplots(1, 1, figsize=(15, 10))\n",
    "\n",
    "    \n",
    "for  mlp, label, args in zip( mlps, labels, plot_args):\n",
    "    axes.plot(mlp.loss_curve_, label = label, **args)\n",
    "\n",
    "\n",
    "fig.legend(axes.get_lines(), labels, ncol=3, loc=\"upper center\")\n",
    "plt.show()\n"
   ]
  },
  {
   "cell_type": "code",
   "execution_count": null,
   "metadata": {},
   "outputs": [],
   "source": []
  }
 ],
 "metadata": {
  "accelerator": "GPU",
  "colab": {
   "authorship_tag": "ABX9TyNCh6L51rbGUqN1bVJsAiwK",
   "collapsed_sections": [],
   "machine_shape": "hm",
   "name": "target.ipynb",
   "provenance": []
  },
  "kernelspec": {
   "display_name": "Python 3",
   "language": "python",
   "name": "python3"
  },
  "language_info": {
   "codemirror_mode": {
    "name": "ipython",
    "version": 3
   },
   "file_extension": ".py",
   "mimetype": "text/x-python",
   "name": "python",
   "nbconvert_exporter": "python",
   "pygments_lexer": "ipython3",
   "version": "3.7.7"
  }
 },
 "nbformat": 4,
 "nbformat_minor": 1
}
